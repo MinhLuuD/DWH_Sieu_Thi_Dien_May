{
 "cells": [
  {
   "cell_type": "code",
   "execution_count": 2,
   "metadata": {},
   "outputs": [],
   "source": [
    "import pandas as pd\n",
    "import os"
   ]
  },
  {
   "cell_type": "code",
   "execution_count": 3,
   "metadata": {},
   "outputs": [
    {
     "name": "stdout",
     "output_type": "stream",
     "text": [
      "Tổng số hàng trong tất cả các tệp Excel: 111573\n"
     ]
    }
   ],
   "source": [
    "folder = r'D:\\FPTpoly\\Khác\\Projects\\DWH_Sieu_Thi_Dien_May\\DATA'  # Sử dụng tiền tố r để tránh lỗi ký tự đặc biệt\n",
    "tong = 0\n",
    "\n",
    "# Liệt kê tất cả các thư mục hoặc tệp trong thư mục gốc\n",
    "list_folder = os.listdir(folder)\n",
    "\n",
    "for sub_folder in list_folder:\n",
    "    sub_folder_path = os.path.join(folder, sub_folder)  # Tạo đường dẫn đầy đủ đến thư mục con hoặc tệp\n",
    "    if os.path.isdir(sub_folder_path):  # Kiểm tra xem đó có phải là thư mục không\n",
    "        list_file = os.listdir(sub_folder_path)\n",
    "        for file in list_file:\n",
    "            if file.endswith('.xlsx'):  # Kiểm tra các tệp có đuôi .xlsx\n",
    "               file_path = os.path.join(sub_folder_path, file)  # Đường dẫn đầy đủ đến tệp\n",
    "               df = pd.read_excel(file_path, sheet_name='Sheet1')  # Đọc dữ liệu từ Sheet1\n",
    "               tong += len(df)  # Tính tổng số hàng\n",
    "\n",
    "print(\"Tổng số hàng trong tất cả các tệp Excel:\", tong)\n"
   ]
  }
 ],
 "metadata": {
  "kernelspec": {
   "display_name": "Python 3",
   "language": "python",
   "name": "python3"
  },
  "language_info": {
   "codemirror_mode": {
    "name": "ipython",
    "version": 3
   },
   "file_extension": ".py",
   "mimetype": "text/x-python",
   "name": "python",
   "nbconvert_exporter": "python",
   "pygments_lexer": "ipython3",
   "version": "3.12.2"
  }
 },
 "nbformat": 4,
 "nbformat_minor": 2
}
